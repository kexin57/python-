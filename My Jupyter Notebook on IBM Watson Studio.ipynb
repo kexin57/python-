{
  "metadata": {
    "kernelspec": {
      "name": "python",
      "display_name": "Pyolite",
      "language": "python"
    },
    "language_info": {
      "codemirror_mode": {
        "name": "python",
        "version": 3
      },
      "file_extension": ".py",
      "mimetype": "text/x-python",
      "name": "python",
      "nbconvert_exporter": "python",
      "pygments_lexer": "ipython3",
      "version": "3.8"
    }
  },
  "nbformat_minor": 4,
  "nbformat": 4,
  "cells": [
    {
      "cell_type": "markdown",
      "source": "<center>\n    <img src=\"https://s3-api.us-geo.objectstorage.softlayer.net/cf-courses-data/CognitiveClass/Logos/organization_logo/organization_logo.png\" width=\"300\" alt=\"cognitiveclass.ai logo\"  />\n</center>\n",
      "metadata": {}
    },
    {
      "cell_type": "markdown",
      "source": "#### Kexin Pan",
      "metadata": {}
    },
    {
      "cell_type": "markdown",
      "source": "student ",
      "metadata": {
        "tags": []
      }
    },
    {
      "cell_type": "markdown",
      "source": "I am interested in data science because it is common used and helpful in the business world.",
      "metadata": {}
    },
    {
      "cell_type": "markdown",
      "source": "Cell5 is about calculating 252*310.",
      "metadata": {}
    },
    {
      "cell_type": "code",
      "source": "252*310",
      "metadata": {},
      "execution_count": null,
      "outputs": []
    },
    {
      "cell_type": "markdown",
      "source": "\n\n| Syntax      | Description |\n| ----------- | ----------- |\n| Header      | Title       |\n| ~~data science~~    | <a href=\"https://dataplatform.cloud.ibm.com/gallery\">IBM Cloud Gallery</a>         |\n\n\n",
      "metadata": {}
    }
  ]
}